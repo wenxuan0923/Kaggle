{
  "nbformat": 4,
  "nbformat_minor": 0,
  "metadata": {
    "colab": {
      "name": "Prep_Titanic.ipynb",
      "provenance": [],
      "collapsed_sections": [],
      "authorship_tag": "ABX9TyMIQb04beKBJtcUdOP8+Muo",
      "include_colab_link": true
    },
    "kernelspec": {
      "name": "python3",
      "display_name": "Python 3"
    }
  },
  "cells": [
    {
      "cell_type": "markdown",
      "metadata": {
        "id": "view-in-github",
        "colab_type": "text"
      },
      "source": [
        "<a href=\"https://colab.research.google.com/github/wenxuan0923/Kaggle/blob/master/Prep_Titanic.ipynb\" target=\"_parent\"><img src=\"https://colab.research.google.com/assets/colab-badge.svg\" alt=\"Open In Colab\"/></a>"
      ]
    },
    {
      "cell_type": "code",
      "metadata": {
        "id": "guQzTwgOeGKJ",
        "colab_type": "code",
        "colab": {}
      },
      "source": [
        "import re\n",
        "import math\n",
        "import numpy as np\n",
        "import pandas as pd\n",
        "from statistics import mode, median\n",
        "import xgboost as xgb\n",
        "from sklearn.pipeline import make_pipeline\n",
        "from sklearn.preprocessing import OneHotEncoder, LabelEncoder, StandardScaler, RobustScaler, MaxAbsScaler\n",
        "from sklearn.metrics import classification_report, confusion_matrix, roc_curve, precision_recall_curve\n",
        "from sklearn.model_selection import train_test_split, StratifiedShuffleSplit, StratifiedKFold\n",
        "import matplotlib.pyplot as plt\n",
        "%matplotlib inline\n",
        "import seaborn as sns\n",
        "sns.set_style(\"whitegrid\")\n",
        "import warnings\n",
        "warnings.filterwarnings('ignore') "
      ],
      "execution_count": 0,
      "outputs": []
    },
    {
      "cell_type": "markdown",
      "metadata": {
        "id": "4cfBhb_Bs84D",
        "colab_type": "text"
      },
      "source": [
        "### The first glimpse of data"
      ]
    },
    {
      "cell_type": "code",
      "metadata": {
        "id": "9j_DZ9O9fL24",
        "colab_type": "code",
        "outputId": "24b4f277-cf3b-41cb-9aeb-da0bdc0ec673",
        "colab": {
          "base_uri": "https://localhost:8080/",
          "height": 425
        }
      },
      "source": [
        "# Read data into dataframe\n",
        "train = pd.read_csv('train.csv')\n",
        "test= pd.read_csv('test.csv')\n",
        "print(train.shape)\n",
        "display(train.head())\n",
        "print(test.shape)\n",
        "display(test.head())"
      ],
      "execution_count": 2,
      "outputs": [
        {
          "output_type": "stream",
          "text": [
            "(891, 12)\n"
          ],
          "name": "stdout"
        },
        {
          "output_type": "display_data",
          "data": {
            "text/html": [
              "<div>\n",
              "<style scoped>\n",
              "    .dataframe tbody tr th:only-of-type {\n",
              "        vertical-align: middle;\n",
              "    }\n",
              "\n",
              "    .dataframe tbody tr th {\n",
              "        vertical-align: top;\n",
              "    }\n",
              "\n",
              "    .dataframe thead th {\n",
              "        text-align: right;\n",
              "    }\n",
              "</style>\n",
              "<table border=\"1\" class=\"dataframe\">\n",
              "  <thead>\n",
              "    <tr style=\"text-align: right;\">\n",
              "      <th></th>\n",
              "      <th>PassengerId</th>\n",
              "      <th>Survived</th>\n",
              "      <th>Pclass</th>\n",
              "      <th>Name</th>\n",
              "      <th>Sex</th>\n",
              "      <th>Age</th>\n",
              "      <th>SibSp</th>\n",
              "      <th>Parch</th>\n",
              "      <th>Ticket</th>\n",
              "      <th>Fare</th>\n",
              "      <th>Cabin</th>\n",
              "      <th>Embarked</th>\n",
              "    </tr>\n",
              "  </thead>\n",
              "  <tbody>\n",
              "    <tr>\n",
              "      <th>0</th>\n",
              "      <td>1</td>\n",
              "      <td>0</td>\n",
              "      <td>3</td>\n",
              "      <td>Braund, Mr. Owen Harris</td>\n",
              "      <td>male</td>\n",
              "      <td>22.0</td>\n",
              "      <td>1</td>\n",
              "      <td>0</td>\n",
              "      <td>A/5 21171</td>\n",
              "      <td>7.2500</td>\n",
              "      <td>NaN</td>\n",
              "      <td>S</td>\n",
              "    </tr>\n",
              "    <tr>\n",
              "      <th>1</th>\n",
              "      <td>2</td>\n",
              "      <td>1</td>\n",
              "      <td>1</td>\n",
              "      <td>Cumings, Mrs. John Bradley (Florence Briggs Th...</td>\n",
              "      <td>female</td>\n",
              "      <td>38.0</td>\n",
              "      <td>1</td>\n",
              "      <td>0</td>\n",
              "      <td>PC 17599</td>\n",
              "      <td>71.2833</td>\n",
              "      <td>C85</td>\n",
              "      <td>C</td>\n",
              "    </tr>\n",
              "    <tr>\n",
              "      <th>2</th>\n",
              "      <td>3</td>\n",
              "      <td>1</td>\n",
              "      <td>3</td>\n",
              "      <td>Heikkinen, Miss. Laina</td>\n",
              "      <td>female</td>\n",
              "      <td>26.0</td>\n",
              "      <td>0</td>\n",
              "      <td>0</td>\n",
              "      <td>STON/O2. 3101282</td>\n",
              "      <td>7.9250</td>\n",
              "      <td>NaN</td>\n",
              "      <td>S</td>\n",
              "    </tr>\n",
              "    <tr>\n",
              "      <th>3</th>\n",
              "      <td>4</td>\n",
              "      <td>1</td>\n",
              "      <td>1</td>\n",
              "      <td>Futrelle, Mrs. Jacques Heath (Lily May Peel)</td>\n",
              "      <td>female</td>\n",
              "      <td>35.0</td>\n",
              "      <td>1</td>\n",
              "      <td>0</td>\n",
              "      <td>113803</td>\n",
              "      <td>53.1000</td>\n",
              "      <td>C123</td>\n",
              "      <td>S</td>\n",
              "    </tr>\n",
              "    <tr>\n",
              "      <th>4</th>\n",
              "      <td>5</td>\n",
              "      <td>0</td>\n",
              "      <td>3</td>\n",
              "      <td>Allen, Mr. William Henry</td>\n",
              "      <td>male</td>\n",
              "      <td>35.0</td>\n",
              "      <td>0</td>\n",
              "      <td>0</td>\n",
              "      <td>373450</td>\n",
              "      <td>8.0500</td>\n",
              "      <td>NaN</td>\n",
              "      <td>S</td>\n",
              "    </tr>\n",
              "  </tbody>\n",
              "</table>\n",
              "</div>"
            ],
            "text/plain": [
              "   PassengerId  Survived  Pclass  ...     Fare Cabin  Embarked\n",
              "0            1         0       3  ...   7.2500   NaN         S\n",
              "1            2         1       1  ...  71.2833   C85         C\n",
              "2            3         1       3  ...   7.9250   NaN         S\n",
              "3            4         1       1  ...  53.1000  C123         S\n",
              "4            5         0       3  ...   8.0500   NaN         S\n",
              "\n",
              "[5 rows x 12 columns]"
            ]
          },
          "metadata": {
            "tags": []
          }
        },
        {
          "output_type": "stream",
          "text": [
            "(418, 11)\n"
          ],
          "name": "stdout"
        },
        {
          "output_type": "display_data",
          "data": {
            "text/html": [
              "<div>\n",
              "<style scoped>\n",
              "    .dataframe tbody tr th:only-of-type {\n",
              "        vertical-align: middle;\n",
              "    }\n",
              "\n",
              "    .dataframe tbody tr th {\n",
              "        vertical-align: top;\n",
              "    }\n",
              "\n",
              "    .dataframe thead th {\n",
              "        text-align: right;\n",
              "    }\n",
              "</style>\n",
              "<table border=\"1\" class=\"dataframe\">\n",
              "  <thead>\n",
              "    <tr style=\"text-align: right;\">\n",
              "      <th></th>\n",
              "      <th>PassengerId</th>\n",
              "      <th>Pclass</th>\n",
              "      <th>Name</th>\n",
              "      <th>Sex</th>\n",
              "      <th>Age</th>\n",
              "      <th>SibSp</th>\n",
              "      <th>Parch</th>\n",
              "      <th>Ticket</th>\n",
              "      <th>Fare</th>\n",
              "      <th>Cabin</th>\n",
              "      <th>Embarked</th>\n",
              "    </tr>\n",
              "  </thead>\n",
              "  <tbody>\n",
              "    <tr>\n",
              "      <th>0</th>\n",
              "      <td>892</td>\n",
              "      <td>3</td>\n",
              "      <td>Kelly, Mr. James</td>\n",
              "      <td>male</td>\n",
              "      <td>34.5</td>\n",
              "      <td>0</td>\n",
              "      <td>0</td>\n",
              "      <td>330911</td>\n",
              "      <td>7.8292</td>\n",
              "      <td>NaN</td>\n",
              "      <td>Q</td>\n",
              "    </tr>\n",
              "    <tr>\n",
              "      <th>1</th>\n",
              "      <td>893</td>\n",
              "      <td>3</td>\n",
              "      <td>Wilkes, Mrs. James (Ellen Needs)</td>\n",
              "      <td>female</td>\n",
              "      <td>47.0</td>\n",
              "      <td>1</td>\n",
              "      <td>0</td>\n",
              "      <td>363272</td>\n",
              "      <td>7.0000</td>\n",
              "      <td>NaN</td>\n",
              "      <td>S</td>\n",
              "    </tr>\n",
              "    <tr>\n",
              "      <th>2</th>\n",
              "      <td>894</td>\n",
              "      <td>2</td>\n",
              "      <td>Myles, Mr. Thomas Francis</td>\n",
              "      <td>male</td>\n",
              "      <td>62.0</td>\n",
              "      <td>0</td>\n",
              "      <td>0</td>\n",
              "      <td>240276</td>\n",
              "      <td>9.6875</td>\n",
              "      <td>NaN</td>\n",
              "      <td>Q</td>\n",
              "    </tr>\n",
              "    <tr>\n",
              "      <th>3</th>\n",
              "      <td>895</td>\n",
              "      <td>3</td>\n",
              "      <td>Wirz, Mr. Albert</td>\n",
              "      <td>male</td>\n",
              "      <td>27.0</td>\n",
              "      <td>0</td>\n",
              "      <td>0</td>\n",
              "      <td>315154</td>\n",
              "      <td>8.6625</td>\n",
              "      <td>NaN</td>\n",
              "      <td>S</td>\n",
              "    </tr>\n",
              "    <tr>\n",
              "      <th>4</th>\n",
              "      <td>896</td>\n",
              "      <td>3</td>\n",
              "      <td>Hirvonen, Mrs. Alexander (Helga E Lindqvist)</td>\n",
              "      <td>female</td>\n",
              "      <td>22.0</td>\n",
              "      <td>1</td>\n",
              "      <td>1</td>\n",
              "      <td>3101298</td>\n",
              "      <td>12.2875</td>\n",
              "      <td>NaN</td>\n",
              "      <td>S</td>\n",
              "    </tr>\n",
              "  </tbody>\n",
              "</table>\n",
              "</div>"
            ],
            "text/plain": [
              "   PassengerId  Pclass  ... Cabin Embarked\n",
              "0          892       3  ...   NaN        Q\n",
              "1          893       3  ...   NaN        S\n",
              "2          894       2  ...   NaN        Q\n",
              "3          895       3  ...   NaN        S\n",
              "4          896       3  ...   NaN        S\n",
              "\n",
              "[5 rows x 11 columns]"
            ]
          },
          "metadata": {
            "tags": []
          }
        }
      ]
    },
    {
      "cell_type": "code",
      "metadata": {
        "id": "N8c5zKOxfJxZ",
        "colab_type": "code",
        "outputId": "5e3d5eed-f538-4822-ff73-737f125dfb1d",
        "colab": {
          "base_uri": "https://localhost:8080/",
          "height": 323
        }
      },
      "source": [
        "print(train.info())"
      ],
      "execution_count": 3,
      "outputs": [
        {
          "output_type": "stream",
          "text": [
            "<class 'pandas.core.frame.DataFrame'>\n",
            "RangeIndex: 891 entries, 0 to 890\n",
            "Data columns (total 12 columns):\n",
            "PassengerId    891 non-null int64\n",
            "Survived       891 non-null int64\n",
            "Pclass         891 non-null int64\n",
            "Name           891 non-null object\n",
            "Sex            891 non-null object\n",
            "Age            714 non-null float64\n",
            "SibSp          891 non-null int64\n",
            "Parch          891 non-null int64\n",
            "Ticket         891 non-null object\n",
            "Fare           891 non-null float64\n",
            "Cabin          204 non-null object\n",
            "Embarked       889 non-null object\n",
            "dtypes: float64(2), int64(5), object(5)\n",
            "memory usage: 83.7+ KB\n",
            "None\n"
          ],
          "name": "stdout"
        }
      ]
    },
    {
      "cell_type": "code",
      "metadata": {
        "id": "1pHeymARI8KA",
        "colab_type": "code",
        "colab": {}
      },
      "source": [
        "# Cancat the train and test sets so we can clean/scale the data at once\n",
        "train_id = train.PassengerId\n",
        "test_id = test.PassengerId\n",
        "test['Survived'] = np.nan\n",
        "all_data =  pd.concat([train, test], ignore_index=False, sort=True)"
      ],
      "execution_count": 0,
      "outputs": []
    },
    {
      "cell_type": "markdown",
      "metadata": {
        "id": "2jsjDe6V_eLR",
        "colab_type": "text"
      },
      "source": [
        "\n",
        "**Some basic findings:**\n",
        "* Categorical data (need to be converted to numerical) : Sex, Cabin, Embarked\n",
        "> 1. Embarked column include 3 categories, if we simply use Pandas' factorize() method to map these categories from text to number, our ML model may assume that two nearby values are more similar than two distant values. It's better to use one-hot encoder for this case.\n",
        "> 2. Sex column only include 2 categories, we can use factorize() for it. \n",
        "\n",
        "* Name and PassengerId contain the same inforamtion, we can safely delete the Name column and keep the Id one. \n",
        "* Sibsp (# of siblings / spouses aboard the Titanic) and Parch(# of parents / children aboard the Titanic) can be used to construct a new feature: total number of relatives on board.\n",
        "* Not sure about the usefulness of Ticket number, but a lot of people have the same Ticket (maybe family or friends)."
      ]
    },
    {
      "cell_type": "markdown",
      "metadata": {
        "id": "pz3-SGnP6E10",
        "colab_type": "text"
      },
      "source": [
        "### Data Visulization: gain some insights\n",
        "\n",
        "#### 1. Categorical Data"
      ]
    },
    {
      "cell_type": "code",
      "metadata": {
        "id": "ObqgNj0BoezH",
        "colab_type": "code",
        "colab": {}
      },
      "source": [
        "def count_plot(x, data, hue=None):\n",
        "  ax = sns.countplot(x=x, hue=hue, data=data)\n",
        "  bars = ax.patches\n",
        "  half = int(len(bars)/2)\n",
        "  if hue:\n",
        "    left_bars = bars[:half]\n",
        "    right_bars = bars[half:]\n",
        "    for left, right in zip(left_bars, right_bars):\n",
        "        height_l = left.get_height()\n",
        "        height_r = right.get_height()\n",
        "        total = height_l + height_r\n",
        "        ax.text(left.get_x() + left.get_width()/2., height_l + 3, '{0:.0%}'.format(height_l/total), ha=\"center\")\n",
        "        ax.text(right.get_x() + right.get_width()/2., height_r + 3, '{0:.0%}'.format(height_r/total), ha=\"center\")\n",
        "  else:\n",
        "      total = len(data)\n",
        "      for bar in bars:\n",
        "        height = bar.get_height()\n",
        "        ax.text(bar.get_x() + bar.get_width()/2., height+ 3, '{0:.0%}'.format(height/total), ha=\"center\")\n",
        "  return ax"
      ],
      "execution_count": 0,
      "outputs": []
    },
    {
      "cell_type": "code",
      "metadata": {
        "id": "nAmrq-NS7MRC",
        "colab_type": "code",
        "outputId": "1e21c845-8f46-4613-9bd1-f52ed35c895c",
        "colab": {
          "base_uri": "https://localhost:8080/",
          "height": 279
        }
      },
      "source": [
        "cate_lst = ['Sex', 'Pclass', 'Embarked']\n",
        "num_rows = math.ceil(len(cate_lst)/3)\n",
        "fig = plt.figure(figsize=(20, 4*num_rows))\n",
        "for i, cate in enumerate(cate_lst):\n",
        "  fig.add_subplot(num_rows, 3, i+1)\n",
        "  count_plot(x=cate, hue='Survived', data=all_data)"
      ],
      "execution_count": 6,
      "outputs": [
        {
          "output_type": "display_data",
          "data": {
            "image/png": "[encoded data removed]",
            "text/plain": [
              "<Figure size 1440x288 with 3 Axes>"
            ]
          },
          "metadata": {
            "tags": []
          }
        }
      ]
    },
    {
      "cell_type": "code",
      "metadata": {
        "id": "liFMXKR755SN",
        "colab_type": "code",
        "outputId": "350b2ca9-ffed-40c5-be58-b0a05b301548",
        "colab": {
          "base_uri": "https://localhost:8080/",
          "height": 238
        }
      },
      "source": [
        "display(train.Pclass.value_counts())\n",
        "print('------------------------------')\n",
        "display(train.Sex.value_counts())\n",
        "print('------------------------------')\n",
        "display(train.Embarked.value_counts())"
      ],
      "execution_count": 7,
      "outputs": [
        {
          "output_type": "display_data",
          "data": {
            "text/plain": [
              "3    491\n",
              "1    216\n",
              "2    184\n",
              "Name: Pclass, dtype: int64"
            ]
          },
          "metadata": {
            "tags": []
          }
        },
        {
          "output_type": "stream",
          "text": [
            "------------------------------\n"
          ],
          "name": "stdout"
        },
        {
          "output_type": "display_data",
          "data": {
            "text/plain": [
              "male      577\n",
              "female    314\n",
              "Name: Sex, dtype: int64"
            ]
          },
          "metadata": {
            "tags": []
          }
        },
        {
          "output_type": "stream",
          "text": [
            "------------------------------\n"
          ],
          "name": "stdout"
        },
        {
          "output_type": "display_data",
          "data": {
            "text/plain": [
              "S    644\n",
              "C    168\n",
              "Q     77\n",
              "Name: Embarked, dtype: int64"
            ]
          },
          "metadata": {
            "tags": []
          }
        }
      ]
    },
    {
      "cell_type": "code",
      "metadata": {
        "id": "ZcoMmsLAgOer",
        "colab_type": "code",
        "outputId": "02fae132-cd76-4303-f5e0-8435f104ee19",
        "colab": {
          "base_uri": "https://localhost:8080/",
          "height": 369
        }
      },
      "source": [
        "sns.factorplot('Pclass', 'Survived', hue='Sex', data=all_data)\n",
        "plt.show()"
      ],
      "execution_count": 8,
      "outputs": [
        {
          "output_type": "display_data",
          "data": {
            "image/png": "[encoded data removed]",
            "text/plain": [
              "<Figure size 430.5x360 with 1 Axes>"
            ]
          },
          "metadata": {
            "tags": []
          }
        }
      ]
    },
    {
      "cell_type": "markdown",
      "metadata": {
        "id": "Z3z1C3VO9Nxj",
        "colab_type": "text"
      },
      "source": [
        "From the count plots above, we can notice something interesting:\n",
        "* Female has a much higher survival rate than male.\n",
        "* Pessangers with ticket class 1 has higher survival rate than other class. Specifically, Class 1 > Class 2 > Class 3.\n",
        "* Pessangers whoes Embarked (Port of Embarkation) is C (Cherbourg) has the highest survival rate. To be more specific, C > Q > S.\n",
        "\n",
        "All of these features play import roles in predicting survival rates.\n",
        "Let's look into the numerical features next.\n"
      ]
    },
    {
      "cell_type": "markdown",
      "metadata": {
        "id": "iFnJlaH682x7",
        "colab_type": "text"
      },
      "source": [
        "#### 2. Numerical Data"
      ]
    },
    {
      "cell_type": "code",
      "metadata": {
        "id": "gVHIlsbE8ZjC",
        "colab_type": "code",
        "outputId": "c6cb87c6-8bda-45c5-8018-f220e82a42ed",
        "colab": {
          "base_uri": "https://localhost:8080/",
          "height": 517
        }
      },
      "source": [
        "# Target Distribution in Features\n",
        "num_lst = ['Fare', 'SibSp', 'Parch', 'Age']\n",
        "num_rows = math.ceil(len(num_lst)/2)\n",
        "fig = plt.figure(figsize=(14, 4*num_rows))\n",
        "for i, col in enumerate(num_lst):\n",
        "  fig.add_subplot(num_rows, 2, i+1)\n",
        "  ax = sns.distplot(all_data[all_data['Survived']==0][col].dropna(), label='Dead')\n",
        "  ax = sns.distplot(all_data[all_data['Survived']==1][col].dropna(), label='Survived')\n",
        "  plt.legend()"
      ],
      "execution_count": 9,
      "outputs": [
        {
          "output_type": "display_data",
          "data": {
            "image/png": "[encoded data removed]",
            "text/plain": [
              "<Figure size 1008x576 with 4 Axes>"
            ]
          },
          "metadata": {
            "tags": []
          }
        }
      ]
    },
    {
      "cell_type": "markdown",
      "metadata": {
        "id": "RqgmNDAm9oC2",
        "colab_type": "text"
      },
      "source": [
        "From the density plots above, we can notice:\n",
        "\n",
        "* All these features are positive skewed to certain extent.\n",
        "* Passengars who paid higher fare have higher survival rate. This is consistent with the finding that people with higher Pclass ticker has higher survival rate (linear relationship). We can verify this by ploting Fare v.s. Pclass scatter plot later.\n",
        "* Number of relatives on board seems \n",
        "* Young people have higher survival rate, especially little kids. \n",
        "\n",
        "**TODO:**\n",
        "Fare and Age seems very important attibutes to predict survival rate, we want to make sure the test set is representative of the various categories of Age and Fare in the whole dataset. Since they are continuous numerical attributes, we need to create their corresponding categories. It is important to have a suficient number of instances in the dataset for each stratum, or else the estimate of the stratum's importance may be biased. We can use pd.cut() function for it.\n"
      ]
    },
    {
      "cell_type": "markdown",
      "metadata": {
        "id": "Kh3a4UjD43MV",
        "colab_type": "text"
      },
      "source": [
        "#### Distribution of target variable"
      ]
    },
    {
      "cell_type": "code",
      "metadata": {
        "id": "YFwDl-AR4R34",
        "colab_type": "code",
        "outputId": "71eedce9-71ca-4aab-d254-016661a0ee01",
        "colab": {
          "base_uri": "https://localhost:8080/",
          "height": 279
        }
      },
      "source": [
        "count_plot(x='Survived', data=train)\n",
        "plt.show()"
      ],
      "execution_count": 10,
      "outputs": [
        {
          "output_type": "display_data",
          "data": {
            "image/png": "[encoded data removed]",
            "text/plain": [
              "<Figure size 432x288 with 1 Axes>"
            ]
          },
          "metadata": {
            "tags": []
          }
        }
      ]
    },
    {
      "cell_type": "markdown",
      "metadata": {
        "id": "6MbZ35FchQDB",
        "colab_type": "text"
      },
      "source": [
        "Target variable : Survived which is binary value (0 = No and 1 = Yes) with ratio 62:38 (a little imbalanced).\n",
        "\n"
      ]
    },
    {
      "cell_type": "markdown",
      "metadata": {
        "id": "rS-F8K0XrvPX",
        "colab_type": "text"
      },
      "source": [
        "### Data cleaning\n",
        "\n",
        "The 4 C's of Data Cleaning: Correcting, Completing, Creating, and Converting. <br>\n",
        "**Correcting:** Check for potential outliers. We don't have to remove them if the value is acceptable, we will wait until after we complete our exploratory analysis to determine if we should include or exclude from the dataset. <br>\n",
        "**Completing:** Fill the missing data. It's important to fix before we start modeling, because some models can't handle missing data<br>\n",
        "**Creating:** Aks feature construction, used to create new features to provide new signals. <br>\n",
        "**Converting:** Convert data format like date, currency, categorical, text data to numerical data.<br>\n",
        "\n",
        "#### I. Fill Missing Data"
      ]
    },
    {
      "cell_type": "code",
      "metadata": {
        "id": "8zQS-kLpAAmh",
        "colab_type": "code",
        "outputId": "0eb90903-daea-44a5-82f1-39d880de9c53",
        "colab": {
          "base_uri": "https://localhost:8080/",
          "height": 816
        }
      },
      "source": [
        "# Check for missing data\n",
        "def check_missing(data):\n",
        "  percent_missing = data.isnull().sum() * 100 / len(data)\n",
        "  missing_value_df = pd.DataFrame({'column_name': data.columns,\n",
        "                                   'percent_missing': percent_missing})\n",
        "  return missing_value_df.sort_values('percent_missing', ascending=False)\n",
        "\n",
        "display(check_missing(train))\n",
        "display(check_missing(test))"
      ],
      "execution_count": 11,
      "outputs": [
        {
          "output_type": "display_data",
          "data": {
            "text/html": [
              "<div>\n",
              "<style scoped>\n",
              "    .dataframe tbody tr th:only-of-type {\n",
              "        vertical-align: middle;\n",
              "    }\n",
              "\n",
              "    .dataframe tbody tr th {\n",
              "        vertical-align: top;\n",
              "    }\n",
              "\n",
              "    .dataframe thead th {\n",
              "        text-align: right;\n",
              "    }\n",
              "</style>\n",
              "<table border=\"1\" class=\"dataframe\">\n",
              "  <thead>\n",
              "    <tr style=\"text-align: right;\">\n",
              "      <th></th>\n",
              "      <th>column_name</th>\n",
              "      <th>percent_missing</th>\n",
              "    </tr>\n",
              "  </thead>\n",
              "  <tbody>\n",
              "    <tr>\n",
              "      <th>Cabin</th>\n",
              "      <td>Cabin</td>\n",
              "      <td>77.104377</td>\n",
              "    </tr>\n",
              "    <tr>\n",
              "      <th>Age</th>\n",
              "      <td>Age</td>\n",
              "      <td>19.865320</td>\n",
              "    </tr>\n",
              "    <tr>\n",
              "      <th>Embarked</th>\n",
              "      <td>Embarked</td>\n",
              "      <td>0.224467</td>\n",
              "    </tr>\n",
              "    <tr>\n",
              "      <th>PassengerId</th>\n",
              "      <td>PassengerId</td>\n",
              "      <td>0.000000</td>\n",
              "    </tr>\n",
              "    <tr>\n",
              "      <th>Survived</th>\n",
              "      <td>Survived</td>\n",
              "      <td>0.000000</td>\n",
              "    </tr>\n",
              "    <tr>\n",
              "      <th>Pclass</th>\n",
              "      <td>Pclass</td>\n",
              "      <td>0.000000</td>\n",
              "    </tr>\n",
              "    <tr>\n",
              "      <th>Name</th>\n",
              "      <td>Name</td>\n",
              "      <td>0.000000</td>\n",
              "    </tr>\n",
              "    <tr>\n",
              "      <th>Sex</th>\n",
              "      <td>Sex</td>\n",
              "      <td>0.000000</td>\n",
              "    </tr>\n",
              "    <tr>\n",
              "      <th>SibSp</th>\n",
              "      <td>SibSp</td>\n",
              "      <td>0.000000</td>\n",
              "    </tr>\n",
              "    <tr>\n",
              "      <th>Parch</th>\n",
              "      <td>Parch</td>\n",
              "      <td>0.000000</td>\n",
              "    </tr>\n",
              "    <tr>\n",
              "      <th>Ticket</th>\n",
              "      <td>Ticket</td>\n",
              "      <td>0.000000</td>\n",
              "    </tr>\n",
              "    <tr>\n",
              "      <th>Fare</th>\n",
              "      <td>Fare</td>\n",
              "      <td>0.000000</td>\n",
              "    </tr>\n",
              "  </tbody>\n",
              "</table>\n",
              "</div>"
            ],
            "text/plain": [
              "             column_name  percent_missing\n",
              "Cabin              Cabin        77.104377\n",
              "Age                  Age        19.865320\n",
              "Embarked        Embarked         0.224467\n",
              "PassengerId  PassengerId         0.000000\n",
              "Survived        Survived         0.000000\n",
              "Pclass            Pclass         0.000000\n",
              "Name                Name         0.000000\n",
              "Sex                  Sex         0.000000\n",
              "SibSp              SibSp         0.000000\n",
              "Parch              Parch         0.000000\n",
              "Ticket            Ticket         0.000000\n",
              "Fare                Fare         0.000000"
            ]
          },
          "metadata": {
            "tags": []
          }
        },
        {
          "output_type": "display_data",
          "data": {
            "text/html": [
              "<div>\n",
              "<style scoped>\n",
              "    .dataframe tbody tr th:only-of-type {\n",
              "        vertical-align: middle;\n",
              "    }\n",
              "\n",
              "    .dataframe tbody tr th {\n",
              "        vertical-align: top;\n",
              "    }\n",
              "\n",
              "    .dataframe thead th {\n",
              "        text-align: right;\n",
              "    }\n",
              "</style>\n",
              "<table border=\"1\" class=\"dataframe\">\n",
              "  <thead>\n",
              "    <tr style=\"text-align: right;\">\n",
              "      <th></th>\n",
              "      <th>column_name</th>\n",
              "      <th>percent_missing</th>\n",
              "    </tr>\n",
              "  </thead>\n",
              "  <tbody>\n",
              "    <tr>\n",
              "      <th>Survived</th>\n",
              "      <td>Survived</td>\n",
              "      <td>100.000000</td>\n",
              "    </tr>\n",
              "    <tr>\n",
              "      <th>Cabin</th>\n",
              "      <td>Cabin</td>\n",
              "      <td>78.229665</td>\n",
              "    </tr>\n",
              "    <tr>\n",
              "      <th>Age</th>\n",
              "      <td>Age</td>\n",
              "      <td>20.574163</td>\n",
              "    </tr>\n",
              "    <tr>\n",
              "      <th>Fare</th>\n",
              "      <td>Fare</td>\n",
              "      <td>0.239234</td>\n",
              "    </tr>\n",
              "    <tr>\n",
              "      <th>PassengerId</th>\n",
              "      <td>PassengerId</td>\n",
              "      <td>0.000000</td>\n",
              "    </tr>\n",
              "    <tr>\n",
              "      <th>Pclass</th>\n",
              "      <td>Pclass</td>\n",
              "      <td>0.000000</td>\n",
              "    </tr>\n",
              "    <tr>\n",
              "      <th>Name</th>\n",
              "      <td>Name</td>\n",
              "      <td>0.000000</td>\n",
              "    </tr>\n",
              "    <tr>\n",
              "      <th>Sex</th>\n",
              "      <td>Sex</td>\n",
              "      <td>0.000000</td>\n",
              "    </tr>\n",
              "    <tr>\n",
              "      <th>SibSp</th>\n",
              "      <td>SibSp</td>\n",
              "      <td>0.000000</td>\n",
              "    </tr>\n",
              "    <tr>\n",
              "      <th>Parch</th>\n",
              "      <td>Parch</td>\n",
              "      <td>0.000000</td>\n",
              "    </tr>\n",
              "    <tr>\n",
              "      <th>Ticket</th>\n",
              "      <td>Ticket</td>\n",
              "      <td>0.000000</td>\n",
              "    </tr>\n",
              "    <tr>\n",
              "      <th>Embarked</th>\n",
              "      <td>Embarked</td>\n",
              "      <td>0.000000</td>\n",
              "    </tr>\n",
              "  </tbody>\n",
              "</table>\n",
              "</div>"
            ],
            "text/plain": [
              "             column_name  percent_missing\n",
              "Survived        Survived       100.000000\n",
              "Cabin              Cabin        78.229665\n",
              "Age                  Age        20.574163\n",
              "Fare                Fare         0.239234\n",
              "PassengerId  PassengerId         0.000000\n",
              "Pclass            Pclass         0.000000\n",
              "Name                Name         0.000000\n",
              "Sex                  Sex         0.000000\n",
              "SibSp              SibSp         0.000000\n",
              "Parch              Parch         0.000000\n",
              "Ticket            Ticket         0.000000\n",
              "Embarked        Embarked         0.000000"
            ]
          },
          "metadata": {
            "tags": []
          }
        }
      ]
    },
    {
      "cell_type": "markdown",
      "metadata": {
        "id": "qWWMOlNoi2GB",
        "colab_type": "text"
      },
      "source": [
        "* Survived is our target variable.\n",
        "* Large amount of the Cabin value in both the training and testing sets is missing, we need to consider deleting it.\n",
        "* We need to wait until we do some exploratory analysis to see how to fill the other missing data, but here are some guess:\n",
        "> 1. We can use some median value to fill the missing Age data since it's numerical data. \n",
        "> 2. We can use mode value to fill the missing Embarked column since it's categorical data.\n",
        "> 3. Note that 0.11% of the Fare in the test set is missing. I guess there must be a linear relationshsip between Pclass and Fare data: the higher Plass(Note class 1 is the highest and 3 is the lowest), we can use the median Fare of each Pclass group to fill the missing in the test set.\n",
        "\n",
        "Let's verify these assumptions: \n",
        "\n",
        "**1. Missing Age**"
      ]
    },
    {
      "cell_type": "code",
      "metadata": {
        "id": "pTNFqHVMwqBo",
        "colab_type": "code",
        "outputId": "855de813-89df-428f-874f-0b3e98b9aa05",
        "colab": {
          "base_uri": "https://localhost:8080/",
          "height": 85
        }
      },
      "source": [
        "sex_age = all_data.groupby('Sex').median()['Age']\n",
        "sex_age"
      ],
      "execution_count": 12,
      "outputs": [
        {
          "output_type": "execute_result",
          "data": {
            "text/plain": [
              "Sex\n",
              "female    27.0\n",
              "male      28.0\n",
              "Name: Age, dtype: float64"
            ]
          },
          "metadata": {
            "tags": []
          },
          "execution_count": 12
        }
      ]
    },
    {
      "cell_type": "markdown",
      "metadata": {
        "id": "Pit_0TaUw4XD",
        "colab_type": "text"
      },
      "source": [
        "The median age from different sex group is almost the same."
      ]
    },
    {
      "cell_type": "code",
      "metadata": {
        "id": "2UB0qFYCrqDu",
        "colab_type": "code",
        "outputId": "000a07d8-fb55-4d74-fe42-6f174c1332a7",
        "colab": {
          "base_uri": "https://localhost:8080/",
          "height": 102
        }
      },
      "source": [
        "class_age = all_data.groupby('Pclass').median()['Age']\n",
        "class_age"
      ],
      "execution_count": 13,
      "outputs": [
        {
          "output_type": "execute_result",
          "data": {
            "text/plain": [
              "Pclass\n",
              "1    39.0\n",
              "2    29.0\n",
              "3    24.0\n",
              "Name: Age, dtype: float64"
            ]
          },
          "metadata": {
            "tags": []
          },
          "execution_count": 13
        }
      ]
    },
    {
      "cell_type": "markdown",
      "metadata": {
        "id": "CzjotZj3ws9v",
        "colab_type": "text"
      },
      "source": [
        "The median age group by the passenger class is quite different, which can be used to fill the missing age."
      ]
    },
    {
      "cell_type": "markdown",
      "metadata": {
        "id": "mZ-zZIfsxtTT",
        "colab_type": "text"
      },
      "source": [
        "**2. Missing Fare**"
      ]
    },
    {
      "cell_type": "code",
      "metadata": {
        "id": "8YFfslQhxJTO",
        "colab_type": "code",
        "outputId": "11ee4528-4aed-4484-f2f5-188ef6e13fbd",
        "colab": {
          "base_uri": "https://localhost:8080/",
          "height": 103
        }
      },
      "source": [
        "class_fare = all_data.groupby('Pclass').median()['Fare']\n",
        "class_fare"
      ],
      "execution_count": 14,
      "outputs": [
        {
          "output_type": "execute_result",
          "data": {
            "text/plain": [
              "Pclass\n",
              "1    60.0000\n",
              "2    15.0458\n",
              "3     8.0500\n",
              "Name: Fare, dtype: float64"
            ]
          },
          "metadata": {
            "tags": []
          },
          "execution_count": 14
        }
      ]
    },
    {
      "cell_type": "markdown",
      "metadata": {
        "id": "Q2mYtGfgxNoP",
        "colab_type": "text"
      },
      "source": [
        "Our assumption is right! it is obvious that the higher the class the higher the fare. We can fill the missing Fare value according to their Pclass."
      ]
    },
    {
      "cell_type": "markdown",
      "metadata": {
        "id": "x2uf21FPxxEO",
        "colab_type": "text"
      },
      "source": [
        "**3. Missing Embarked**"
      ]
    },
    {
      "cell_type": "code",
      "metadata": {
        "id": "DRSFL4EQxJRH",
        "colab_type": "code",
        "outputId": "696bbf96-ad62-4d32-a49c-9f8f07e1aac8",
        "colab": {
          "base_uri": "https://localhost:8080/",
          "height": 103
        }
      },
      "source": [
        "all_data.groupby('Pclass')['Embarked'].agg(pd.Series.mode)"
      ],
      "execution_count": 15,
      "outputs": [
        {
          "output_type": "execute_result",
          "data": {
            "text/plain": [
              "Pclass\n",
              "1    S\n",
              "2    S\n",
              "3    S\n",
              "Name: Embarked, dtype: object"
            ]
          },
          "metadata": {
            "tags": []
          },
          "execution_count": 15
        }
      ]
    },
    {
      "cell_type": "code",
      "metadata": {
        "id": "Io9MV3ICy_VG",
        "colab_type": "code",
        "outputId": "0f8f7b38-711c-4e73-96ac-e321597e71d7",
        "colab": {
          "base_uri": "https://localhost:8080/",
          "height": 34
        }
      },
      "source": [
        "mode_embarked = mode(all_data['Embarked'])\n",
        "mode_embarked"
      ],
      "execution_count": 16,
      "outputs": [
        {
          "output_type": "execute_result",
          "data": {
            "text/plain": [
              "'S'"
            ]
          },
          "metadata": {
            "tags": []
          },
          "execution_count": 16
        }
      ]
    },
    {
      "cell_type": "markdown",
      "metadata": {
        "id": "pDXU3eTlyCXY",
        "colab_type": "text"
      },
      "source": [
        "The most common Embarked value is S for all three Pclass. which is consistent with the global mode value. We can just use this to impute the missing Embarked value."
      ]
    },
    {
      "cell_type": "code",
      "metadata": {
        "id": "N6yp_4dZDdp9",
        "colab_type": "code",
        "colab": {}
      },
      "source": [
        "all_data['Age'] = all_data.apply(lambda row: class_age[int(row['Pclass'])]\n",
        "                          if np.isnan(row['Age']) else row['Age'], axis=1) \n",
        "\n",
        "all_data['Fare'] = all_data.apply(lambda row: class_fare[int(row['Pclass'])]\n",
        "                          if np.isnan(row['Fare']) else row['Fare'], axis=1) \n",
        "\n",
        "all_data['Embarked'] = all_data['Embarked'].fillna(mode(all_data['Embarked']))\n"
      ],
      "execution_count": 0,
      "outputs": []
    },
    {
      "cell_type": "markdown",
      "metadata": {
        "id": "0Qq1Myccx_A_",
        "colab_type": "text"
      },
      "source": [
        "Done! Let's double check all the missing value has been fixed except cabin (We gonna delete it)."
      ]
    },
    {
      "cell_type": "code",
      "metadata": {
        "id": "EF6-mjPsxPAI",
        "colab_type": "code",
        "outputId": "d32182eb-42e0-4483-cf67-339d3a536e23",
        "colab": {
          "base_uri": "https://localhost:8080/",
          "height": 416
        }
      },
      "source": [
        "display(check_missing(all_data))"
      ],
      "execution_count": 18,
      "outputs": [
        {
          "output_type": "display_data",
          "data": {
            "text/html": [
              "<div>\n",
              "<style scoped>\n",
              "    .dataframe tbody tr th:only-of-type {\n",
              "        vertical-align: middle;\n",
              "    }\n",
              "\n",
              "    .dataframe tbody tr th {\n",
              "        vertical-align: top;\n",
              "    }\n",
              "\n",
              "    .dataframe thead th {\n",
              "        text-align: right;\n",
              "    }\n",
              "</style>\n",
              "<table border=\"1\" class=\"dataframe\">\n",
              "  <thead>\n",
              "    <tr style=\"text-align: right;\">\n",
              "      <th></th>\n",
              "      <th>column_name</th>\n",
              "      <th>percent_missing</th>\n",
              "    </tr>\n",
              "  </thead>\n",
              "  <tbody>\n",
              "    <tr>\n",
              "      <th>Cabin</th>\n",
              "      <td>Cabin</td>\n",
              "      <td>77.463713</td>\n",
              "    </tr>\n",
              "    <tr>\n",
              "      <th>Survived</th>\n",
              "      <td>Survived</td>\n",
              "      <td>31.932773</td>\n",
              "    </tr>\n",
              "    <tr>\n",
              "      <th>Age</th>\n",
              "      <td>Age</td>\n",
              "      <td>0.000000</td>\n",
              "    </tr>\n",
              "    <tr>\n",
              "      <th>Embarked</th>\n",
              "      <td>Embarked</td>\n",
              "      <td>0.000000</td>\n",
              "    </tr>\n",
              "    <tr>\n",
              "      <th>Fare</th>\n",
              "      <td>Fare</td>\n",
              "      <td>0.000000</td>\n",
              "    </tr>\n",
              "    <tr>\n",
              "      <th>Name</th>\n",
              "      <td>Name</td>\n",
              "      <td>0.000000</td>\n",
              "    </tr>\n",
              "    <tr>\n",
              "      <th>Parch</th>\n",
              "      <td>Parch</td>\n",
              "      <td>0.000000</td>\n",
              "    </tr>\n",
              "    <tr>\n",
              "      <th>PassengerId</th>\n",
              "      <td>PassengerId</td>\n",
              "      <td>0.000000</td>\n",
              "    </tr>\n",
              "    <tr>\n",
              "      <th>Pclass</th>\n",
              "      <td>Pclass</td>\n",
              "      <td>0.000000</td>\n",
              "    </tr>\n",
              "    <tr>\n",
              "      <th>Sex</th>\n",
              "      <td>Sex</td>\n",
              "      <td>0.000000</td>\n",
              "    </tr>\n",
              "    <tr>\n",
              "      <th>SibSp</th>\n",
              "      <td>SibSp</td>\n",
              "      <td>0.000000</td>\n",
              "    </tr>\n",
              "    <tr>\n",
              "      <th>Ticket</th>\n",
              "      <td>Ticket</td>\n",
              "      <td>0.000000</td>\n",
              "    </tr>\n",
              "  </tbody>\n",
              "</table>\n",
              "</div>"
            ],
            "text/plain": [
              "             column_name  percent_missing\n",
              "Cabin              Cabin        77.463713\n",
              "Survived        Survived        31.932773\n",
              "Age                  Age         0.000000\n",
              "Embarked        Embarked         0.000000\n",
              "Fare                Fare         0.000000\n",
              "Name                Name         0.000000\n",
              "Parch              Parch         0.000000\n",
              "PassengerId  PassengerId         0.000000\n",
              "Pclass            Pclass         0.000000\n",
              "Sex                  Sex         0.000000\n",
              "SibSp              SibSp         0.000000\n",
              "Ticket            Ticket         0.000000"
            ]
          },
          "metadata": {
            "tags": []
          }
        }
      ]
    },
    {
      "cell_type": "markdown",
      "metadata": {
        "id": "xn9nw2320FTw",
        "colab_type": "text"
      },
      "source": [
        "#### II. Feature Constuction\n",
        "\n",
        "1. We can create a **family_size** feature as the summation of SibSp and Parch and the person himself/herself.\n",
        "2. We can notice that some people share the same ticket, meaning they travel with friends or family. We can create a **group_size** feature as the frequency of ticket.\n",
        "3. From the name of the person, we can extrat their title like Mr. Mrs. and so on. This can be used as a **title** feature.\n"
      ]
    },
    {
      "cell_type": "code",
      "metadata": {
        "id": "5GWop37izGGF",
        "colab_type": "code",
        "colab": {}
      },
      "source": [
        "all_data['family_size'] = all_data['SibSp'] + all_data['Parch'] + 1\n",
        "ticket_size_match = all_data.groupby('Ticket').count()['PassengerId'].to_dict()\n",
        "all_data['group_size'] = all_data['Ticket'].apply(lambda x: ticket_size_match[x])\n",
        "pattern = ' ([A-Za-z]+)\\.'\n",
        "all_data['Title'] = all_data['Name'].apply(lambda x: re.search(pattern, x).group(1))\n",
        "all_data['Fare'] = pd.qcut(all_data['Fare'], 5, labels=range(5))\n",
        "all_data['Age'] = pd.qcut(all_data['Age'], 5, labels=range(5))\n",
        "all_data['has_cabin'] = 1 - 1 * pd.isnull(all_data['Cabin'])"
      ],
      "execution_count": 0,
      "outputs": []
    },
    {
      "cell_type": "code",
      "metadata": {
        "id": "iRYkGYhEleG8",
        "colab_type": "code",
        "outputId": "b94369a7-f722-42e3-d33e-c8cffedbc084",
        "colab": {
          "base_uri": "https://localhost:8080/",
          "height": 340
        }
      },
      "source": [
        "all_data.head()"
      ],
      "execution_count": 20,
      "outputs": [
        {
          "output_type": "execute_result",
          "data": {
            "text/html": [
              "<div>\n",
              "<style scoped>\n",
              "    .dataframe tbody tr th:only-of-type {\n",
              "        vertical-align: middle;\n",
              "    }\n",
              "\n",
              "    .dataframe tbody tr th {\n",
              "        vertical-align: top;\n",
              "    }\n",
              "\n",
              "    .dataframe thead th {\n",
              "        text-align: right;\n",
              "    }\n",
              "</style>\n",
              "<table border=\"1\" class=\"dataframe\">\n",
              "  <thead>\n",
              "    <tr style=\"text-align: right;\">\n",
              "      <th></th>\n",
              "      <th>Age</th>\n",
              "      <th>Cabin</th>\n",
              "      <th>Embarked</th>\n",
              "      <th>Fare</th>\n",
              "      <th>Name</th>\n",
              "      <th>Parch</th>\n",
              "      <th>PassengerId</th>\n",
              "      <th>Pclass</th>\n",
              "      <th>Sex</th>\n",
              "      <th>SibSp</th>\n",
              "      <th>Survived</th>\n",
              "      <th>Ticket</th>\n",
              "      <th>family_size</th>\n",
              "      <th>group_size</th>\n",
              "      <th>Title</th>\n",
              "      <th>has_cabin</th>\n",
              "    </tr>\n",
              "  </thead>\n",
              "  <tbody>\n",
              "    <tr>\n",
              "      <th>0</th>\n",
              "      <td>1</td>\n",
              "      <td>NaN</td>\n",
              "      <td>S</td>\n",
              "      <td>0</td>\n",
              "      <td>Braund, Mr. Owen Harris</td>\n",
              "      <td>0</td>\n",
              "      <td>1</td>\n",
              "      <td>3</td>\n",
              "      <td>male</td>\n",
              "      <td>1</td>\n",
              "      <td>0.0</td>\n",
              "      <td>A/5 21171</td>\n",
              "      <td>2</td>\n",
              "      <td>1</td>\n",
              "      <td>Mr</td>\n",
              "      <td>0</td>\n",
              "    </tr>\n",
              "    <tr>\n",
              "      <th>1</th>\n",
              "      <td>3</td>\n",
              "      <td>C85</td>\n",
              "      <td>C</td>\n",
              "      <td>4</td>\n",
              "      <td>Cumings, Mrs. John Bradley (Florence Briggs Th...</td>\n",
              "      <td>0</td>\n",
              "      <td>2</td>\n",
              "      <td>1</td>\n",
              "      <td>female</td>\n",
              "      <td>1</td>\n",
              "      <td>1.0</td>\n",
              "      <td>PC 17599</td>\n",
              "      <td>2</td>\n",
              "      <td>2</td>\n",
              "      <td>Mrs</td>\n",
              "      <td>1</td>\n",
              "    </tr>\n",
              "    <tr>\n",
              "      <th>2</th>\n",
              "      <td>2</td>\n",
              "      <td>NaN</td>\n",
              "      <td>S</td>\n",
              "      <td>1</td>\n",
              "      <td>Heikkinen, Miss. Laina</td>\n",
              "      <td>0</td>\n",
              "      <td>3</td>\n",
              "      <td>3</td>\n",
              "      <td>female</td>\n",
              "      <td>0</td>\n",
              "      <td>1.0</td>\n",
              "      <td>STON/O2. 3101282</td>\n",
              "      <td>1</td>\n",
              "      <td>1</td>\n",
              "      <td>Miss</td>\n",
              "      <td>0</td>\n",
              "    </tr>\n",
              "    <tr>\n",
              "      <th>3</th>\n",
              "      <td>3</td>\n",
              "      <td>C123</td>\n",
              "      <td>S</td>\n",
              "      <td>4</td>\n",
              "      <td>Futrelle, Mrs. Jacques Heath (Lily May Peel)</td>\n",
              "      <td>0</td>\n",
              "      <td>4</td>\n",
              "      <td>1</td>\n",
              "      <td>female</td>\n",
              "      <td>1</td>\n",
              "      <td>1.0</td>\n",
              "      <td>113803</td>\n",
              "      <td>2</td>\n",
              "      <td>2</td>\n",
              "      <td>Mrs</td>\n",
              "      <td>1</td>\n",
              "    </tr>\n",
              "    <tr>\n",
              "      <th>4</th>\n",
              "      <td>3</td>\n",
              "      <td>NaN</td>\n",
              "      <td>S</td>\n",
              "      <td>1</td>\n",
              "      <td>Allen, Mr. William Henry</td>\n",
              "      <td>0</td>\n",
              "      <td>5</td>\n",
              "      <td>3</td>\n",
              "      <td>male</td>\n",
              "      <td>0</td>\n",
              "      <td>0.0</td>\n",
              "      <td>373450</td>\n",
              "      <td>1</td>\n",
              "      <td>1</td>\n",
              "      <td>Mr</td>\n",
              "      <td>0</td>\n",
              "    </tr>\n",
              "  </tbody>\n",
              "</table>\n",
              "</div>"
            ],
            "text/plain": [
              "  Age Cabin Embarked Fare  ... family_size  group_size  Title  has_cabin\n",
              "0   1   NaN        S    0  ...           2           1     Mr          0\n",
              "1   3   C85        C    4  ...           2           2    Mrs          1\n",
              "2   2   NaN        S    1  ...           1           1   Miss          0\n",
              "3   3  C123        S    4  ...           2           2    Mrs          1\n",
              "4   3   NaN        S    1  ...           1           1     Mr          0\n",
              "\n",
              "[5 rows x 16 columns]"
            ]
          },
          "metadata": {
            "tags": []
          },
          "execution_count": 20
        }
      ]
    },
    {
      "cell_type": "markdown",
      "metadata": {
        "id": "VDGoXY1LEP-X",
        "colab_type": "text"
      },
      "source": [
        "Let's check the distribution of newly constructed features."
      ]
    },
    {
      "cell_type": "code",
      "metadata": {
        "id": "Wdf97jekFbGU",
        "colab_type": "code",
        "outputId": "c465827f-54b7-48b3-8b80-804e816897b3",
        "colab": {
          "base_uri": "https://localhost:8080/",
          "height": 300
        }
      },
      "source": [
        "num_lst = ['family_size', 'group_size']\n",
        "num_rows = math.ceil(len(num_lst)/2)\n",
        "fig = plt.figure(figsize=(14, 4*num_rows))\n",
        "for i, col in enumerate(num_lst):\n",
        "  fig.add_subplot(num_rows, 2, i+1)\n",
        "  ax = sns.distplot(all_data[all_data['Survived']==0][col].dropna(), label='Dead')\n",
        "  ax = sns.distplot(all_data[all_data['Survived']==1][col].dropna(), label='Survived')\n",
        "  plt.legend()"
      ],
      "execution_count": 21,
      "outputs": [
        {
          "output_type": "display_data",
          "data": {
            "image/png": "[encoded data removed]",
            "text/plain": [
              "<Figure size 1008x288 with 2 Axes>"
            ]
          },
          "metadata": {
            "tags": []
          }
        }
      ]
    },
    {
      "cell_type": "code",
      "metadata": {
        "id": "93eqUeXUxJMC",
        "colab_type": "code",
        "outputId": "f856752f-b8c2-4701-e1f8-bab197bbac8c",
        "colab": {
          "base_uri": "https://localhost:8080/",
          "height": 498
        }
      },
      "source": [
        "cate_lst = ['Title', 'Fare', 'Age', 'has_cabin']\n",
        "num_rows = math.ceil(len(cate_lst)/2)\n",
        "fig = plt.figure(figsize=(15, 4*num_rows))\n",
        "for i, cate in enumerate(cate_lst):\n",
        "  fig.add_subplot(num_rows, 2, i+1)\n",
        "  count_plot(x=cate, data=all_data)"
      ],
      "execution_count": 22,
      "outputs": [
        {
          "output_type": "display_data",
          "data": {
            "image/png": "[encoded data removed]",
            "text/plain": [
              "<Figure size 1080x576 with 4 Axes>"
            ]
          },
          "metadata": {
            "tags": []
          }
        }
      ]
    },
    {
      "cell_type": "markdown",
      "metadata": {
        "id": "zy9EIiAqC0Yq",
        "colab_type": "text"
      },
      "source": [
        "There are too many titles here, let's group the rare one into a single category: Rare."
      ]
    },
    {
      "cell_type": "code",
      "metadata": {
        "id": "pvuuqLC-EKLm",
        "colab_type": "code",
        "outputId": "3954d65d-1e8e-4fce-a68e-fefa74542e5c",
        "colab": {
          "base_uri": "https://localhost:8080/",
          "height": 323
        }
      },
      "source": [
        "to_remove_map = (all_data.Title.value_counts()/len(all_data) < 0.01).to_dict()\n",
        "to_remove_map"
      ],
      "execution_count": 23,
      "outputs": [
        {
          "output_type": "execute_result",
          "data": {
            "text/plain": [
              "{'Capt': True,\n",
              " 'Col': True,\n",
              " 'Countess': True,\n",
              " 'Don': True,\n",
              " 'Dona': True,\n",
              " 'Dr': True,\n",
              " 'Jonkheer': True,\n",
              " 'Lady': True,\n",
              " 'Major': True,\n",
              " 'Master': False,\n",
              " 'Miss': False,\n",
              " 'Mlle': True,\n",
              " 'Mme': True,\n",
              " 'Mr': False,\n",
              " 'Mrs': False,\n",
              " 'Ms': True,\n",
              " 'Rev': True,\n",
              " 'Sir': True}"
            ]
          },
          "metadata": {
            "tags": []
          },
          "execution_count": 23
        }
      ]
    },
    {
      "cell_type": "code",
      "metadata": {
        "id": "8KgrJL89ExGr",
        "colab_type": "code",
        "outputId": "25abd680-3528-4c1b-90f6-f63c3f03e91d",
        "colab": {
          "base_uri": "https://localhost:8080/",
          "height": 279
        }
      },
      "source": [
        "all_data['Title'] = all_data['Title'].apply(lambda x: 'Rare' if to_remove_map[x] else x)\n",
        "count_plot(x='Title', data=all_data)\n",
        "plt.show()"
      ],
      "execution_count": 24,
      "outputs": [
        {
          "output_type": "display_data",
          "data": {
            "image/png": "[encoded data removed]",
            "text/plain": [
              "<Figure size 432x288 with 1 Axes>"
            ]
          },
          "metadata": {
            "tags": []
          }
        }
      ]
    },
    {
      "cell_type": "code",
      "metadata": {
        "id": "W9og1hf-kKr-",
        "colab_type": "code",
        "colab": {
          "base_uri": "https://localhost:8080/",
          "height": 235
        },
        "outputId": "31cc312d-f762-44fb-f1b4-4488749138ff"
      },
      "source": [
        "all_data = all_data.set_index('PassengerId')\n",
        "all_data = all_data.drop(['Cabin', 'Name', 'Ticket'], axis=1)\n",
        "all_data.loc[train_id].head()"
      ],
      "execution_count": 25,
      "outputs": [
        {
          "output_type": "execute_result",
          "data": {
            "text/html": [
              "<div>\n",
              "<style scoped>\n",
              "    .dataframe tbody tr th:only-of-type {\n",
              "        vertical-align: middle;\n",
              "    }\n",
              "\n",
              "    .dataframe tbody tr th {\n",
              "        vertical-align: top;\n",
              "    }\n",
              "\n",
              "    .dataframe thead th {\n",
              "        text-align: right;\n",
              "    }\n",
              "</style>\n",
              "<table border=\"1\" class=\"dataframe\">\n",
              "  <thead>\n",
              "    <tr style=\"text-align: right;\">\n",
              "      <th></th>\n",
              "      <th>Age</th>\n",
              "      <th>Embarked</th>\n",
              "      <th>Fare</th>\n",
              "      <th>Parch</th>\n",
              "      <th>Pclass</th>\n",
              "      <th>Sex</th>\n",
              "      <th>SibSp</th>\n",
              "      <th>Survived</th>\n",
              "      <th>family_size</th>\n",
              "      <th>group_size</th>\n",
              "      <th>Title</th>\n",
              "      <th>has_cabin</th>\n",
              "    </tr>\n",
              "    <tr>\n",
              "      <th>PassengerId</th>\n",
              "      <th></th>\n",
              "      <th></th>\n",
              "      <th></th>\n",
              "      <th></th>\n",
              "      <th></th>\n",
              "      <th></th>\n",
              "      <th></th>\n",
              "      <th></th>\n",
              "      <th></th>\n",
              "      <th></th>\n",
              "      <th></th>\n",
              "      <th></th>\n",
              "    </tr>\n",
              "  </thead>\n",
              "  <tbody>\n",
              "    <tr>\n",
              "      <th>1</th>\n",
              "      <td>1</td>\n",
              "      <td>S</td>\n",
              "      <td>0</td>\n",
              "      <td>0</td>\n",
              "      <td>3</td>\n",
              "      <td>male</td>\n",
              "      <td>1</td>\n",
              "      <td>0.0</td>\n",
              "      <td>2</td>\n",
              "      <td>1</td>\n",
              "      <td>Mr</td>\n",
              "      <td>0</td>\n",
              "    </tr>\n",
              "    <tr>\n",
              "      <th>2</th>\n",
              "      <td>3</td>\n",
              "      <td>C</td>\n",
              "      <td>4</td>\n",
              "      <td>0</td>\n",
              "      <td>1</td>\n",
              "      <td>female</td>\n",
              "      <td>1</td>\n",
              "      <td>1.0</td>\n",
              "      <td>2</td>\n",
              "      <td>2</td>\n",
              "      <td>Mrs</td>\n",
              "      <td>1</td>\n",
              "    </tr>\n",
              "    <tr>\n",
              "      <th>3</th>\n",
              "      <td>2</td>\n",
              "      <td>S</td>\n",
              "      <td>1</td>\n",
              "      <td>0</td>\n",
              "      <td>3</td>\n",
              "      <td>female</td>\n",
              "      <td>0</td>\n",
              "      <td>1.0</td>\n",
              "      <td>1</td>\n",
              "      <td>1</td>\n",
              "      <td>Miss</td>\n",
              "      <td>0</td>\n",
              "    </tr>\n",
              "    <tr>\n",
              "      <th>4</th>\n",
              "      <td>3</td>\n",
              "      <td>S</td>\n",
              "      <td>4</td>\n",
              "      <td>0</td>\n",
              "      <td>1</td>\n",
              "      <td>female</td>\n",
              "      <td>1</td>\n",
              "      <td>1.0</td>\n",
              "      <td>2</td>\n",
              "      <td>2</td>\n",
              "      <td>Mrs</td>\n",
              "      <td>1</td>\n",
              "    </tr>\n",
              "    <tr>\n",
              "      <th>5</th>\n",
              "      <td>3</td>\n",
              "      <td>S</td>\n",
              "      <td>1</td>\n",
              "      <td>0</td>\n",
              "      <td>3</td>\n",
              "      <td>male</td>\n",
              "      <td>0</td>\n",
              "      <td>0.0</td>\n",
              "      <td>1</td>\n",
              "      <td>1</td>\n",
              "      <td>Mr</td>\n",
              "      <td>0</td>\n",
              "    </tr>\n",
              "  </tbody>\n",
              "</table>\n",
              "</div>"
            ],
            "text/plain": [
              "            Age Embarked Fare  Parch  ...  family_size group_size  Title  has_cabin\n",
              "PassengerId                           ...                                          \n",
              "1             1        S    0      0  ...            2          1     Mr          0\n",
              "2             3        C    4      0  ...            2          2    Mrs          1\n",
              "3             2        S    1      0  ...            1          1   Miss          0\n",
              "4             3        S    4      0  ...            2          2    Mrs          1\n",
              "5             3        S    1      0  ...            1          1     Mr          0\n",
              "\n",
              "[5 rows x 12 columns]"
            ]
          },
          "metadata": {
            "tags": []
          },
          "execution_count": 25
        }
      ]
    },
    {
      "cell_type": "code",
      "metadata": {
        "id": "Oy3dTBjHkDJ_",
        "colab_type": "code",
        "outputId": "1071e052-926f-4b33-9b78-4f15dba67dee",
        "colab": {
          "base_uri": "https://localhost:8080/",
          "height": 543
        }
      },
      "source": [
        "colormap = plt.cm.RdBu\n",
        "plt.figure(figsize=(10,8))\n",
        "plt.title('Pearson Correlation of Features', y=1.05, size=15)\n",
        "tmp = all_data.loc[train_id].drop(['Embarked', 'Sex', 'Title'], axis=1).copy()\n",
        "sns.heatmap(tmp.corr(), linewidths=0.1,vmax=1.0, \n",
        "            square=True, cmap=colormap, linecolor='white', annot=True)\n",
        "plt.show()"
      ],
      "execution_count": 26,
      "outputs": [
        {
          "output_type": "display_data",
          "data": {
            "image/png": "[encoded data removed]",
            "text/plain": [
              "<Figure size 720x576 with 2 Axes>"
            ]
          },
          "metadata": {
            "tags": []
          }
        }
      ]
    },
    {
      "cell_type": "markdown",
      "metadata": {
        "id": "L3Qo6Tu8FoJm",
        "colab_type": "text"
      },
      "source": [
        "#### III. Converting\n",
        "\n",
        "Ordinal data can be converted using LabelEncoder() and non-ordinal can be converted use OneHotEncoder(Title).\n",
        "\n",
        "**Ordinal**: Age, Fare.\n",
        "\n",
        "**Non-ordinal**: Sex, Embarked, Title\n"
      ]
    },
    {
      "cell_type": "code",
      "metadata": {
        "id": "byvqs2PbEH7E",
        "colab_type": "code",
        "colab": {}
      },
      "source": [
        "def convert_data(data):\n",
        "  data['Sex'] = LabelEncoder().fit_transform(data['Sex'])\n",
        "  data = pd.get_dummies(data)\n",
        "  return data\n",
        "\n",
        "all_data = convert_data(all_data)\n",
        "train = all_data.loc[train_id]\n",
        "test = all_data.loc[test_id].drop('Survived', axis=1)"
      ],
      "execution_count": 0,
      "outputs": []
    },
    {
      "cell_type": "markdown",
      "metadata": {
        "id": "FgNu2IDR-tUy",
        "colab_type": "text"
      },
      "source": [
        "#### Multivariate Analysis"
      ]
    },
    {
      "cell_type": "markdown",
      "metadata": {
        "id": "AuCS10ip-sL-",
        "colab_type": "text"
      },
      "source": [
        "Some interesting findings here:\n",
        "* Female tend to pay higher fare and have higher survival rate than male.\n",
        "* Younger male and older female gave higher survival rate, but this is not very significant.\n",
        "* Passengers with Embarked C (Port of Embarkation = Cherbourg) usually pay higher fare and has higher rate of survival."
      ]
    },
    {
      "cell_type": "markdown",
      "metadata": {
        "id": "Qrio66Q8oMjl",
        "colab_type": "text"
      },
      "source": [
        "All the data is all numerical and missing values have been fixed, it's time to build some models.\n",
        "\n",
        "### Model Building"
      ]
    },
    {
      "cell_type": "code",
      "metadata": {
        "id": "9QYpMVCEJ33i",
        "colab_type": "code",
        "colab": {}
      },
      "source": [
        "from scipy import stats\n",
        "from xgboost import XGBClassifier\n",
        "from sklearn.svm import SVC\n",
        "from sklearn.neighbors import KNeighborsClassifier\n",
        "from sklearn.linear_model import LogisticRegression\n",
        "from sklearn.model_selection import RandomizedSearchCV\n",
        "from sklearn.ensemble import AdaBoostClassifier, RandomForestClassifier"
      ],
      "execution_count": 0,
      "outputs": []
    },
    {
      "cell_type": "code",
      "metadata": {
        "id": "aY74iYKTLjyz",
        "colab_type": "code",
        "colab": {}
      },
      "source": [
        "# Base classifiers for Ensemble model\n",
        "\n",
        "class Clf(object):\n",
        "\n",
        "    def __init__(self, clf, params, cv=3, n_iter=5, scoring=\"roc_auc\", seed=0):\n",
        "        self.clf = clf\n",
        "        self.params = params\n",
        "        self.n_iter = n_iter\n",
        "        self.cv = cv \n",
        "        self.scoring = scoring\n",
        "        self.seed = seed\n",
        "        self.clf_CV = None\n",
        "\n",
        "    def fit(self, X_train, y_train):\n",
        "\n",
        "        '''The parameters of the estimator used to apply these methods are optimized \n",
        "        by cross-validated search over parameter settings. Given a positive cv argument, \n",
        "        if the estimator is a classifier and y is either binary or multiclass, \n",
        "        StratifiedKFold is used. '''\n",
        "\n",
        "        self.clf_CV = RandomizedSearchCV(estimator = self.clf, \n",
        "                                         param_distributions = self.params, \n",
        "                                         n_iter = self.n_iter, cv = self.cv, \n",
        "                                         scoring = self.scoring, verbose=0)\n",
        "        self.clf_CV.fit(X_train, y_train)\n",
        "\n",
        "    def predict(self, X, return_prob=False):\n",
        "        if return_prob:\n",
        "            return self.clf_CV.best_estimator_.predict_proba(X)\n",
        "        else:\n",
        "            return self.clf_CV.best_estimator_.predict(X)\n",
        "    \n",
        "    def get_score(self):\n",
        "        return self.clf_CV.best_score_\n",
        " \n",
        "    def get_feature_importances(self): \n",
        "        # This method can't be used for Logistic regression, SVM, KNN models\n",
        "        estimator= self.clf_CV.best_estimator_\n",
        "        importances = estimator.feature_importances_\n",
        "        return importances"
      ],
      "execution_count": 0,
      "outputs": []
    },
    {
      "cell_type": "code",
      "metadata": {
        "id": "-o9mfkUMR43C",
        "colab_type": "code",
        "colab": {}
      },
      "source": [
        "# I will use 6 classifier for this stacking model\n",
        "knn = KNeighborsClassifier()\n",
        "svc = SVC(probability=True)\n",
        "rf = RandomForestClassifier()\n",
        "adb = AdaBoostClassifier()\n",
        "log_reg = LogisticRegression()\n",
        "xgb = XGBClassifier(objective='binary:hinge')"
      ],
      "execution_count": 0,
      "outputs": []
    },
    {
      "cell_type": "code",
      "metadata": {
        "id": "f73Rd7KoMRlZ",
        "colab_type": "code",
        "colab": {}
      },
      "source": [
        "# Parmeters for Randomized seaching CV\n",
        "\n",
        "param_knn = {'n_neighbors': stats.randint(5, 10),\n",
        "             'metric': ['manhattan', 'euclidean', 'minkowski']}\n",
        "\n",
        "param_svc = {'degree': stats.randint(2, 3),\n",
        "             'C': stats.uniform(0.5, 1.5),\n",
        "             'kernel': ['linear', 'poly', 'rbf'], \n",
        "             'max_iter': stats.randint(50, 300)}\n",
        "\n",
        "param_rf = {'n_estimators': stats.randint(50, 200),\n",
        "            'max_depth': stats.randint(3, 6),\n",
        "            'criterion': ['gini', 'entropy']}\n",
        "\n",
        "param_adb = {'n_estimators': stats.randint(50, 200),\n",
        "             'learning_rate': stats.uniform(0.01, 0.1)}\n",
        "\n",
        "param_log = {'max_iter': stats.randint(100, 300),\n",
        "             'C': stats.uniform(0.2, 1.5)}    \n",
        "\n",
        "param_xgb = {'n_estimators': stats.randint(50, 200),\n",
        "             'eta': stats.uniform(0.01, 0.1),\n",
        "             'max_depth': stats.randint(3, 5),\n",
        "             'subsample': stats.uniform(0.4, 0.6),\n",
        "             'colsample_bylevel': stats.uniform(0.4, 0.6)}\n"
      ],
      "execution_count": 0,
      "outputs": []
    },
    {
      "cell_type": "code",
      "metadata": {
        "id": "k1ID-Lx6_OYm",
        "colab_type": "code",
        "colab": {}
      },
      "source": [
        "def train_clf(X, y):\n",
        "\n",
        "    clf_knn = Clf(clf=knn, params=param_knn)\n",
        "    clf_svc = Clf(clf=svc, params=param_svc)\n",
        "    clf_rf = Clf(clf=rf, params=param_rf)\n",
        "    clf_adb = Clf(clf=adb, params=param_adb)\n",
        "    clf_log = Clf(clf=log_reg, params=param_log)\n",
        "    clf_xgb = Clf(clf=xgb, params=param_xgb)\n",
        "\n",
        "    clf_adb.fit(X, y)\n",
        "    clf_knn.fit(X, y)\n",
        "    clf_svc.fit(X, y)\n",
        "    clf_rf.fit(X, y)\n",
        "    clf_log.fit(X, y)\n",
        "    clf_xgb.fit(X, y)\n",
        "    \n",
        "    fitted_models = (clf_adb, clf_knn, clf_svc, clf_rf, clf_log, clf_xgb)\n",
        "    \n",
        "    return fitted_models\n",
        "\n",
        "def eval_clf(fitted_models, cols):\n",
        "\n",
        "    (clf_adb, clf_knn, clf_svc, clf_rf, clf_log, clf_xgb) = fitted_models  \n",
        "    \n",
        "    best_score_df = pd.DataFrame( {\n",
        "        'Random Forest': clf_rf.get_score(),\n",
        "        'AdaBoost': clf_adb.get_score(),\n",
        "        'KNN': clf_knn.get_score(),\n",
        "        'SVC': clf_svc.get_score(),\n",
        "        'Logistic Regression': clf_log.get_score(),\n",
        "        'XGBoost': clf_xgb.get_score()\n",
        "        }, index=['roc_auc']).T\n",
        "    \n",
        "    rf_feature = clf_rf.get_feature_importances()\n",
        "    adb_feature = clf_adb.get_feature_importances()\n",
        "    xgb_feature = clf_xgb.get_feature_importances()\n",
        "\n",
        "    # Create a dataframe with features\n",
        "    feature_dataframe = pd.DataFrame( {'features': cols,\n",
        "        'Random Forest': rf_feature,\n",
        "        'AdaBoost': adb_feature,\n",
        "        'XGBoost': xgb_feature,\n",
        "        })\n",
        "    feature_dataframe['mean'] = feature_dataframe.mean(axis=1)\n",
        "    \n",
        "    return best_score_df, feature_dataframe\n",
        "  \n",
        "def plot_feature_importance(importances, X):\n",
        "\n",
        "   # Plot the feature importances of the model\n",
        "    indices = np.argsort(importances)[::-1]\n",
        "    plt.figure(figsize = (20, 5))\n",
        "    plt.title(\"Feature importances\")\n",
        "    ax = sns.barplot(x=list(range(X.shape[1])), y=np.array(importances)[indices])\n",
        "    ax.set_xticklabels(rotation=30, labels=X.columns[indices])\n",
        "    plt.show()"
      ],
      "execution_count": 0,
      "outputs": []
    },
    {
      "cell_type": "markdown",
      "metadata": {
        "id": "cydTtNOqCRY6",
        "colab_type": "text"
      },
      "source": [
        "Let's train the model now.\n",
        "\n",
        "#### Base model score"
      ]
    },
    {
      "cell_type": "code",
      "metadata": {
        "id": "hyaKLrxs1rhL",
        "colab_type": "code",
        "outputId": "a448e637-d4e4-4bfc-cb5c-e6e9b9c187b1",
        "colab": {
          "base_uri": "https://localhost:8080/",
          "height": 585
        }
      },
      "source": [
        "X, y = train.drop('Survived', axis=1), train['Survived'].copy()\n",
        "cols = X.columns\n",
        "scaled_X = X.copy()\n",
        "scaler = MaxAbsScaler()  # This scaler is for sparse dataset\n",
        "scaled_X = scaler.fit_transform(scaled_X)\n",
        "scaled_test = scaler.transform(test)\n",
        "\n",
        "fitted_models = train_clf(scaled_X, y)\n",
        "best_score_df, feature_dataframe = eval_clf(fitted_models, cols)\n",
        "\n",
        "display(best_score_df)\n",
        "plot_feature_importance(feature_dataframe['mean'], X)"
      ],
      "execution_count": 117,
      "outputs": [
        {
          "output_type": "display_data",
          "data": {
            "text/html": [
              "<div>\n",
              "<style scoped>\n",
              "    .dataframe tbody tr th:only-of-type {\n",
              "        vertical-align: middle;\n",
              "    }\n",
              "\n",
              "    .dataframe tbody tr th {\n",
              "        vertical-align: top;\n",
              "    }\n",
              "\n",
              "    .dataframe thead th {\n",
              "        text-align: right;\n",
              "    }\n",
              "</style>\n",
              "<table border=\"1\" class=\"dataframe\">\n",
              "  <thead>\n",
              "    <tr style=\"text-align: right;\">\n",
              "      <th></th>\n",
              "      <th>roc_auc</th>\n",
              "    </tr>\n",
              "  </thead>\n",
              "  <tbody>\n",
              "    <tr>\n",
              "      <th>Random Forest</th>\n",
              "      <td>0.874708</td>\n",
              "    </tr>\n",
              "    <tr>\n",
              "      <th>AdaBoost</th>\n",
              "      <td>0.872591</td>\n",
              "    </tr>\n",
              "    <tr>\n",
              "      <th>KNN</th>\n",
              "      <td>0.833933</td>\n",
              "    </tr>\n",
              "    <tr>\n",
              "      <th>SVC</th>\n",
              "      <td>0.858059</td>\n",
              "    </tr>\n",
              "    <tr>\n",
              "      <th>Logistic Regression</th>\n",
              "      <td>0.867934</td>\n",
              "    </tr>\n",
              "    <tr>\n",
              "      <th>XGBoost</th>\n",
              "      <td>0.815430</td>\n",
              "    </tr>\n",
              "  </tbody>\n",
              "</table>\n",
              "</div>"
            ],
            "text/plain": [
              "                      roc_auc\n",
              "Random Forest        0.874708\n",
              "AdaBoost             0.872591\n",
              "KNN                  0.833933\n",
              "SVC                  0.858059\n",
              "Logistic Regression  0.867934\n",
              "XGBoost              0.815430"
            ]
          },
          "metadata": {
            "tags": []
          }
        },
        {
          "output_type": "display_data",
          "data": {
            "image/png": "[encoded data removed]",
            "text/plain": [
              "<Figure size 1440x360 with 1 Axes>"
            ]
          },
          "metadata": {
            "tags": []
          }
        }
      ]
    },
    {
      "cell_type": "code",
      "metadata": {
        "id": "kKD13oKei4fS",
        "colab_type": "code",
        "colab": {}
      },
      "source": [
        "(clf_adb, clf_knn, clf_svc, clf_rf, clf_log, clf_xgb) = fitted_models"
      ],
      "execution_count": 0,
      "outputs": []
    },
    {
      "cell_type": "code",
      "metadata": {
        "id": "3QEt1YD-itll",
        "colab_type": "code",
        "colab": {
          "base_uri": "https://localhost:8080/",
          "height": 34
        },
        "outputId": "cfedf1e5-009b-4b18-d579-71ca81bc86be"
      },
      "source": [
        "cross_valid(clf_adb.clf_CV.best_estimator_, scaled_X, y.values)"
      ],
      "execution_count": 121,
      "outputs": [
        {
          "output_type": "stream",
          "text": [
            "The ROC_AUC_SCORE is 0.82\n"
          ],
          "name": "stdout"
        }
      ]
    },
    {
      "cell_type": "markdown",
      "metadata": {
        "id": "PDFlVXdITTUd",
        "colab_type": "text"
      },
      "source": [
        "### Ensemble model"
      ]
    },
    {
      "cell_type": "code",
      "metadata": {
        "id": "egIuKkqoTFwL",
        "colab_type": "code",
        "colab": {}
      },
      "source": [
        "from sklearn.base import BaseEstimator, clone\n",
        "from sklearn.metrics import roc_auc_score"
      ],
      "execution_count": 0,
      "outputs": []
    },
    {
      "cell_type": "code",
      "metadata": {
        "id": "G-I5At37S4xQ",
        "colab_type": "code",
        "colab": {}
      },
      "source": [
        "class Ensembel(BaseEstimator):\n",
        "    def __init__(self, fitted_models):\n",
        "        self.models = fitted_models\n",
        "        \n",
        "    # we define clones of the original models to fit the data\n",
        "    def fit(self, X, y):\n",
        "        self.models_ = [clone(x.clf_CV.best_estimator_) for x in self.models]\n",
        "        # Train cloned base models\n",
        "        for model in self.models_:\n",
        "            model.fit(X, y)\n",
        "        return self\n",
        "    \n",
        "    def predict(self, X):\n",
        "        predict_prob = np.zeros((X.shape[0], 2))\n",
        "        for model in self.models_:\n",
        "            predict_prob += model.predict_proba(X)\n",
        "        ensemble = pd.DataFrame(predict_prob)\n",
        "        ensemble['final'] = 1 * (ensemble[0] < ensemble[1])\n",
        "        return ensemble['final'].values"
      ],
      "execution_count": 0,
      "outputs": []
    },
    {
      "cell_type": "code",
      "metadata": {
        "id": "5OYyvrcwS4q8",
        "colab_type": "code",
        "colab": {}
      },
      "source": [
        "def cross_valid(model, X, y, n=3):\n",
        "  skf = StratifiedKFold(n_splits=n)\n",
        "  measures = []\n",
        "  for train_index, test_index in skf.split(X, y):\n",
        "      ## Extract Kfold\n",
        "      X_train, X_test = X[train_index], X[test_index]\n",
        "      y_train, y_test = y[train_index], y[test_index]\n",
        "      ## Fit models\n",
        "      model = model.fit(X_train, y_train)\n",
        "      ## Compute measure\n",
        "      pred = model.predict(X_test)\n",
        "      measures.append(roc_auc_score(y_test, pred))\n",
        "  print('The ROC_AUC_SCORE is %.2f' % (np.mean(measures)))"
      ],
      "execution_count": 0,
      "outputs": []
    },
    {
      "cell_type": "code",
      "metadata": {
        "id": "vtC4_hNkdv-u",
        "colab_type": "code",
        "colab": {
          "base_uri": "https://localhost:8080/",
          "height": 34
        },
        "outputId": "bd301ac9-6877-4002-e103-95765429695e"
      },
      "source": [
        "(clf_adb, clf_knn, clf_svc, clf_rf, clf_log, clf_xgb) = fitted_models\n",
        "ensembel = Ensembel([clf_svc, clf_rf, clf_log, clf_adb])\n",
        "cross_valid(ensembel, scaled_X, y.values)"
      ],
      "execution_count": 101,
      "outputs": [
        {
          "output_type": "stream",
          "text": [
            "The ROC_AUC_SCORE is 0.82\n"
          ],
          "name": "stdout"
        }
      ]
    },
    {
      "cell_type": "code",
      "metadata": {
        "id": "QlMQsYtLhFC9",
        "colab_type": "code",
        "colab": {}
      },
      "source": [
        "result = pd.DataFrame(ensembel.predict(scaled_test), index=test.index, columns=['Survived'])"
      ],
      "execution_count": 0,
      "outputs": []
    },
    {
      "cell_type": "markdown",
      "metadata": {
        "id": "BTVIswsA79FI",
        "colab_type": "text"
      },
      "source": [
        "What if we remove some all the less importance features? \n"
      ]
    },
    {
      "cell_type": "code",
      "metadata": {
        "id": "FLjg7iNC8GPs",
        "colab_type": "code",
        "outputId": "94b11c10-640f-4ab4-c3bc-4ac1deb9c3a9",
        "colab": {
          "base_uri": "https://localhost:8080/",
          "height": 235
        }
      },
      "source": [
        "cols_drop = ['Embarked_Q']+['Age_'+str(i) for i in [0,2,3]]+['Fare_'+str(i) for i in [0,2,3]]\n",
        "scaled_X_new = X.drop(cols_drop, axis=1)\n",
        "cols = scaled_X_new.columns\n",
        "scaler_new = MaxAbsScaler()  # This is for sparse dataset\n",
        "scaled_X_new = scaler_new.fit_transform(scaled_X_new)\n",
        "scaled_test_new = scaler_new.transform(test.drop(cols_drop, axis=1))\n",
        "\n",
        "fitted_models_new = train_clf(scaled_X_new, y)\n",
        "best_score_df_new, _ = eval_clf(fitted_models_new, cols)\n",
        "\n",
        "display(best_score_df_new)"
      ],
      "execution_count": 107,
      "outputs": [
        {
          "output_type": "display_data",
          "data": {
            "text/html": [
              "<div>\n",
              "<style scoped>\n",
              "    .dataframe tbody tr th:only-of-type {\n",
              "        vertical-align: middle;\n",
              "    }\n",
              "\n",
              "    .dataframe tbody tr th {\n",
              "        vertical-align: top;\n",
              "    }\n",
              "\n",
              "    .dataframe thead th {\n",
              "        text-align: right;\n",
              "    }\n",
              "</style>\n",
              "<table border=\"1\" class=\"dataframe\">\n",
              "  <thead>\n",
              "    <tr style=\"text-align: right;\">\n",
              "      <th></th>\n",
              "      <th>roc_auc</th>\n",
              "    </tr>\n",
              "  </thead>\n",
              "  <tbody>\n",
              "    <tr>\n",
              "      <th>Random Forest</th>\n",
              "      <td>0.879070</td>\n",
              "    </tr>\n",
              "    <tr>\n",
              "      <th>AdaBoost</th>\n",
              "      <td>0.874365</td>\n",
              "    </tr>\n",
              "    <tr>\n",
              "      <th>KNN</th>\n",
              "      <td>0.846236</td>\n",
              "    </tr>\n",
              "    <tr>\n",
              "      <th>SVC</th>\n",
              "      <td>0.853218</td>\n",
              "    </tr>\n",
              "    <tr>\n",
              "      <th>Logistic Regression</th>\n",
              "      <td>0.868892</td>\n",
              "    </tr>\n",
              "    <tr>\n",
              "      <th>XGBoost</th>\n",
              "      <td>0.819984</td>\n",
              "    </tr>\n",
              "  </tbody>\n",
              "</table>\n",
              "</div>"
            ],
            "text/plain": [
              "                      roc_auc\n",
              "Random Forest        0.879070\n",
              "AdaBoost             0.874365\n",
              "KNN                  0.846236\n",
              "SVC                  0.853218\n",
              "Logistic Regression  0.868892\n",
              "XGBoost              0.819984"
            ]
          },
          "metadata": {
            "tags": []
          }
        }
      ]
    },
    {
      "cell_type": "code",
      "metadata": {
        "id": "bA1D_zK4hzUt",
        "colab_type": "code",
        "colab": {
          "base_uri": "https://localhost:8080/",
          "height": 34
        },
        "outputId": "7e30d1dd-6e52-4c99-80a5-7b9cf42bac02"
      },
      "source": [
        "(clf_adb, clf_knn, clf_svc, clf_rf, clf_log, clf_xgb) = fitted_models_new\n",
        "ensembel_new = Ensembel([clf_svc, clf_rf, clf_log, clf_adb])\n",
        "cross_valid(ensembel_new, scaled_X_new, y.values)"
      ],
      "execution_count": 110,
      "outputs": [
        {
          "output_type": "stream",
          "text": [
            "The ROC_AUC_SCORE is 0.81\n"
          ],
          "name": "stdout"
        }
      ]
    },
    {
      "cell_type": "code",
      "metadata": {
        "id": "3WNzSjq4hTOr",
        "colab_type": "code",
        "colab": {}
      },
      "source": [
        "result.to_csv('2020021402.csv')"
      ],
      "execution_count": 0,
      "outputs": []
    },
    {
      "cell_type": "code",
      "metadata": {
        "id": "EC8E_fBph8yh",
        "colab_type": "code",
        "colab": {}
      },
      "source": [
        "result = pd.DataFrame(ensembel_new.predict(scaled_test_new), index=test.index, columns=['Survived'])"
      ],
      "execution_count": 0,
      "outputs": []
    },
    {
      "cell_type": "markdown",
      "metadata": {
        "id": "uh5EnhkM9_Zg",
        "colab_type": "text"
      },
      "source": [
        "Wow! the model actually perform a  little better without the dropped columns."
      ]
    }
  ]
}